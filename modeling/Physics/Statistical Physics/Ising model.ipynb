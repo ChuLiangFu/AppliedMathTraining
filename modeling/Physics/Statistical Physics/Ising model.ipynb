{
 "cells": [
  {
   "cell_type": "markdown",
   "id": "unnecessary-label",
   "metadata": {},
   "source": [
    "Ising model probably is the most important physical model in statistical physics. Here we would like to introduce a little beyond it.\n",
    "\n",
    "* Ising Model and Phase Transition\n",
    "\n",
    "* Dimentionality and Mean Field\n",
    "\n",
    "* Monte Carlo Method\n",
    "\n",
    "* Ising model with different applications and perspectives\n",
    "\n",
    "* Generalized Ising Model (Bethe and more)\n",
    "\n",
    "* Cluster Variation Method and Cluster Expansion"
   ]
  },
  {
   "cell_type": "markdown",
   "id": "incorrect-doctrine",
   "metadata": {},
   "source": [
    "### Ising Model and Phase Transition\n",
    "The original ising model is studied by Ising to understand the phase transition. Generally this kind of model can be written as:\n",
    "$$H(\\sigma) = \\sum_{ij} J_{ij} \\sigma_i \\sigma_j + \\sum_i \\mu_i\\sigma_i $$\n",
    "Here it assumes the lattice structure and $\\sigma$ is the spin on the lattice, $J$ and $\\mu$ is the related parameters. Generally, the first term represents the internal interaction inside the system, the second term represents the response of the external field. $H$ is the Hamiltonian of the whole system. This model is so simple but Actually very effective."
   ]
  },
  {
   "cell_type": "code",
   "execution_count": null,
   "id": "cardiovascular-purse",
   "metadata": {},
   "outputs": [],
   "source": []
  }
 ],
 "metadata": {
  "kernelspec": {
   "display_name": "Python 3",
   "language": "python",
   "name": "python3"
  },
  "language_info": {
   "codemirror_mode": {
    "name": "ipython",
    "version": 3
   },
   "file_extension": ".py",
   "mimetype": "text/x-python",
   "name": "python",
   "nbconvert_exporter": "python",
   "pygments_lexer": "ipython3",
   "version": "3.8.8"
  }
 },
 "nbformat": 4,
 "nbformat_minor": 5
}
