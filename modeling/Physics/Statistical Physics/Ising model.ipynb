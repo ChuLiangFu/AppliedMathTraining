{
 "cells": [
  {
   "cell_type": "markdown",
   "id": "unnecessary-label",
   "metadata": {},
   "source": [
    "Ising model probably is the most important physical model in statistical physics. Here we would like to introduce a little beyond it.\n",
    "\n",
    "* Ising Model\n",
    "\n",
    "* Ising model with different applications and perspectives\n",
    "\n",
    "* Generalized Ising Model (Bethe and more)\n",
    "\n",
    "* Cluster Variation Method and Cluster Expansion"
   ]
  }
 ],
 "metadata": {
  "kernelspec": {
   "display_name": "Python 3",
   "language": "python",
   "name": "python3"
  },
  "language_info": {
   "codemirror_mode": {
    "name": "ipython",
    "version": 3
   },
   "file_extension": ".py",
   "mimetype": "text/x-python",
   "name": "python",
   "nbconvert_exporter": "python",
   "pygments_lexer": "ipython3",
   "version": "3.8.8"
  }
 },
 "nbformat": 4,
 "nbformat_minor": 5
}
